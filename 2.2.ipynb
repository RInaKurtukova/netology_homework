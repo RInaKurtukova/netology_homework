{
 "cells": [
  {
   "cell_type": "code",
   "execution_count": 2,
   "metadata": {},
   "outputs": [
    {
     "name": "stdout",
     "output_type": "stream",
     "text": [
      "News file: newsafr.txt\n",
      "('африке', 47)\n",
      "('африки', 47)\n",
      "('туристов', 42)\n",
      "('страны', 37)\n",
      "('компании', 28)\n",
      "('сафари', 27)\n",
      "('странах', 24)\n",
      "('wilderness', 24)\n",
      "('туризма', 21)\n",
      "('travel', 21)\n",
      "News file: newscy.txt\n",
      "('туристов', 56)\n",
      "('россии', 41)\n",
      "('seasons', 28)\n",
      "('россиян', 26)\n",
      "('человек', 23)\n",
      "('отдыха', 22)\n",
      "('интерфакс', 20)\n",
      "('туризм', 20)\n",
      "('cyprus', 19)\n",
      "('которые', 19)\n",
      "News file: newsfr.txt\n",
      "('туристов', 56)\n",
      "('россии', 41)\n",
      "('seasons', 28)\n",
      "('россиян', 26)\n",
      "('человек', 23)\n",
      "('отдыха', 22)\n",
      "('интерфакс', 20)\n",
      "('туризм', 20)\n",
      "('cyprus', 19)\n",
      "('которые', 19)\n",
      "News file: newsit.txt\n",
      "('италии', 72)\n",
      "('туризм', 32)\n",
      "('землетрясения', 29)\n",
      "('человек', 25)\n",
      "('интерфакс', 21)\n",
      "('землетрясение', 20)\n",
      "('центральной', 20)\n",
      "('туристов', 19)\n",
      "('которые', 18)\n",
      "('гостей', 17)\n"
     ]
    }
   ],
   "source": [
    "import chardet\n",
    "\n",
    "\n",
    "def get_words_from_news_file(filename, cp='', min_word_len=6):\n",
    "    dict = {}\n",
    "    text = \"\"\n",
    "\n",
    "    with open(filename, 'rb') as f:\n",
    "        newdata = f.read()\n",
    "        result = chardet.detect(newdata)\n",
    "        text = newdata.decode(result['encoding'])\n",
    "\n",
    "    if len(text) > 0:\n",
    "        line = text.strip()\n",
    "        newline = line.split(' ')\n",
    "        for word in newline:\n",
    "            if len(word) >= min_word_len:\n",
    "                word = word.lower()\n",
    "                dict[word] = dict.get(word, 0) + 1\n",
    "\n",
    "    return dict\n",
    "\n",
    "\n",
    "def print_top(dict, top_num=10):\n",
    "    sorted_list = sorted(dict.items(), key=lambda x: x[1], reverse=True)\n",
    "    for i in range(top_num):\n",
    "        print(sorted_list[i])\n",
    "\n",
    "\n",
    "def process_file(filename):\n",
    "    print('News file: {}'.format(filename))\n",
    "    dict = get_words_from_news_file(filename)\n",
    "    print_top(dict)\n",
    "\n",
    "\n",
    "files = ['newsafr.txt', 'newscy.txt', 'newsfr.txt', 'newsit.txt']\n",
    "\n",
    "for fname in files:\n",
    "    process_file(fname)"
   ]
  },
  {
   "cell_type": "code",
   "execution_count": null,
   "metadata": {
    "collapsed": true
   },
   "outputs": [],
   "source": []
  }
 ],
 "metadata": {
  "kernelspec": {
   "display_name": "Python 3",
   "language": "python",
   "name": "python3"
  },
  "language_info": {
   "codemirror_mode": {
    "name": "ipython",
    "version": 3
   },
   "file_extension": ".py",
   "mimetype": "text/x-python",
   "name": "python",
   "nbconvert_exporter": "python",
   "pygments_lexer": "ipython3",
   "version": "3.6.3"
  }
 },
 "nbformat": 4,
 "nbformat_minor": 2
}
