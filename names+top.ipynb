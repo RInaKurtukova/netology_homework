{
 "cells": [
  {
   "cell_type": "code",
   "execution_count": 9,
   "metadata": {
    "collapsed": true
   },
   "outputs": [],
   "source": [
    "from datetime import date\n",
    "import matplotlib.pyplot as plt\n",
    "import numpy as np\n",
    "import os\n",
    "import os.path\n",
    "import pandas as pd\n",
    "\n",
    "%matplotlib inline"
   ]
  },
  {
   "cell_type": "code",
   "execution_count": 10,
   "metadata": {},
   "outputs": [
    {
     "name": "stdout",
     "output_type": "stream",
     "text": [
      "/Users/RinaKurtukova/names\n"
     ]
    }
   ],
   "source": [
    "DATA_FOLDER = 'names'\n",
    "DATA_PATH = '/'.join((os.getcwd(), DATA_FOLDER))\n",
    "print(DATA_PATH)"
   ]
  },
  {
   "cell_type": "code",
   "execution_count": 11,
   "metadata": {
    "collapsed": true
   },
   "outputs": [],
   "source": [
    "def top_3_names_by_years(years):\n",
    "    wholeall_years_names = []\n",
    "    top_3_names = []\n",
    "\n",
    "    for year in years:\n",
    "        file_name = ''.join(('yob', str(year), '.txt'))\n",
    "\n",
    "        names = pd.read_csv(\n",
    "            '/'.join((DATA_PATH, file_name)), \n",
    "            names=['Name','Gender','Count']\n",
    "        )\n",
    "        \n",
    "        whole_years_names.append(names)\n",
    "\n",
    "    all_names = pd.concat(wholeall_years_names)\n",
    "    all_names = all_names.groupby(['Name']).sum().sort_values(by='Count', ascending=False).reset_index()\n",
    "\n",
    "    for name in range(3):\n",
    "        top_3_names.append(all_names['Name'][name])\n",
    "\n",
    "    return top_3_names"
   ]
  },
  {
   "cell_type": "code",
   "execution_count": 12,
   "metadata": {
    "collapsed": true
   },
   "outputs": [],
   "source": [
    "def gender_dynamika_by_years(years):\n",
    "    gender_dynamika = {\n",
    "        'F': [],\n",
    "        'M': []\n",
    "    }\n",
    "\n",
    "    for year in years:\n",
    "        file_name = ''.join(('yob', str(year), '.txt'))\n",
    "\n",
    "        names = pd.read_csv(\n",
    "            '/'.join((DATA_PATH, file_name)), \n",
    "            names=['Name','Gender','Count']\n",
    "        )\n",
    "\n",
    "        kids_by_gender = names.groupby('Gender').sum().reset_index()\n",
    "\n",
    "        gender_dynamika['F'].append(kids_by_gender['Count'][0])\n",
    "        gender_dynamika['M'].append(kids_by_gender['Count'][1])\n",
    "\n",
    "    return gender_dynamika"
   ]
  },
  {
   "cell_type": "code",
   "execution_count": 8,
   "metadata": {},
   "outputs": [
    {
     "name": "stdout",
     "output_type": "stream",
     "text": [
      "['Michael', 'James', 'John']\n",
      "{'F': [299810, 1766237, 1774186, 2007486], 'M': [150486, 1910601, 1915331, 2113644]}\n"
     ]
    }
   ],
   "source": [
    "years = [1900, 1998, 2010, 1956]\n",
    "names_list = []\n",
    "gender_dynamika = {}\n",
    "\n",
    "names_list = top_3_names_by_years(years)\n",
    "\n",
    "print(names_list)\n",
    "\n",
    "gender_dynamika = gender_dynamika_by_years(years)\n",
    "\n",
    "print(gender_dynamics)"
   ]
  },
  {
   "cell_type": "code",
   "execution_count": null,
   "metadata": {
    "collapsed": true
   },
   "outputs": [],
   "source": []
  }
 ],
 "metadata": {
  "kernelspec": {
   "display_name": "Python 3",
   "language": "python",
   "name": "python3"
  },
  "language_info": {
   "codemirror_mode": {
    "name": "ipython",
    "version": 3
   },
   "file_extension": ".py",
   "mimetype": "text/x-python",
   "name": "python",
   "nbconvert_exporter": "python",
   "pygments_lexer": "ipython3",
   "version": "3.6.3"
  }
 },
 "nbformat": 4,
 "nbformat_minor": 2
}
